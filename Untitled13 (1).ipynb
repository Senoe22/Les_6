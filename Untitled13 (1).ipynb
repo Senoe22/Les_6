{
 "cells": [
  {
   "cell_type": "code",
   "execution_count": 1,
   "metadata": {},
   "outputs": [],
   "source": [
    "import numpy as np"
   ]
  },
  {
   "cell_type": "code",
   "execution_count": 19,
   "metadata": {
    "scrolled": true
   },
   "outputs": [
    {
     "data": {
      "text/plain": [
       "array([6., 5., 4., 3., 2., 1., 0.])"
      ]
     },
     "execution_count": 19,
     "metadata": {},
     "output_type": "execute_result"
    }
   ],
   "source": [
    "# Задание 1\n",
    "n = 7\n",
    "np.linspace(n - 1, 0, n)"
   ]
  },
  {
   "cell_type": "code",
   "execution_count": 37,
   "metadata": {
    "scrolled": true
   },
   "outputs": [
    {
     "name": "stdout",
     "output_type": "stream",
     "text": [
      "[[6. 0. 0. 0. 0. 0. 0.]\n",
      " [0. 5. 0. 0. 0. 0. 0.]\n",
      " [0. 0. 4. 0. 0. 0. 0.]\n",
      " [0. 0. 0. 3. 0. 0. 0.]\n",
      " [0. 0. 0. 0. 2. 0. 0.]\n",
      " [0. 0. 0. 0. 0. 1. 0.]\n",
      " [0. 0. 0. 0. 0. 0. 0.]]\n",
      "Сумма главной диагонали= 21.0\n"
     ]
    }
   ],
   "source": [
    "# Задание 2\n",
    "n = 7\n",
    "matr = np.diag(np.linspace(n-1, 0, n))\n",
    "print(matr)\n",
    "print('Сумма главной диагонали=',sum(np.diagonal(matr)))"
   ]
  },
  {
   "cell_type": "code",
   "execution_count": 2,
   "metadata": {},
   "outputs": [],
   "source": [
    "from numpy import linalg"
   ]
  },
  {
   "cell_type": "code",
   "execution_count": 48,
   "metadata": {
    "scrolled": true
   },
   "outputs": [
    {
     "name": "stdout",
     "output_type": "stream",
     "text": [
      "Ответ = [ 0.46666667  3.84444444 -5.55555556]\n",
      "Проверка правильности ответа - True\n"
     ]
    }
   ],
   "source": [
    "# Задание 3\n",
    "a = np.array([[4, 2, 1], [1, 3, 0], [0, 5, 4]])\n",
    "b = np. array([4, 12, -3])\n",
    "print('Ответ =', linalg.solve(a, b))\n",
    "print('Проверка правильности ответа -', np.allclose(np.dot(a, linalg.solve(a, b)), b))"
   ]
  },
  {
   "cell_type": "code",
   "execution_count": 3,
   "metadata": {},
   "outputs": [],
   "source": [
    "import matplotlib.pyplot as plt"
   ]
  },
  {
   "cell_type": "code",
   "execution_count": 8,
   "metadata": {},
   "outputs": [
    {
     "name": "stdout",
     "output_type": "stream",
     "text": [
      "cos =  0.9486832980505138  Наибольшее сходство с клиентом -  [0 1 1 0 0 0]\n"
     ]
    }
   ],
   "source": [
    "# Задание 4\n",
    "users_stats = np.array(\n",
    "    [\n",
    "        [2, 1, 0, 0, 0, 0],\n",
    "        [1, 1, 2, 1, 0, 0],\n",
    "        [2, 0, 1, 0, 0, 0],\n",
    "        [1, 1, 2, 1, 0, 1],\n",
    "        [0, 0, 1, 2, 0, 0],\n",
    "        [0, 0, 0, 0, 0, 5],\n",
    "        [1, 0, 0, 0, 0, 0],\n",
    "        [0, 1, 1, 0, 0, 0],\n",
    "        [0, 0, 0, 1, 1, 3],\n",
    "        [1, 0, 0, 2, 1, 4]\n",
    "    ], \n",
    "    np.int32\n",
    ")\n",
    "next_user_stats = np.array([0, 1, 2, 0, 0, 0])\n",
    "def cosine (a,b):\n",
    "    aLenght = np.linalg.norm(a)\n",
    "    bLenght = np.linalg.norm(b)\n",
    "    return np.dot(a, b) / (aLenght * bLenght)\n",
    "\n",
    "cos_list = []\n",
    "for i in users_stats:\n",
    "    cos_list.append(cosine(i, next_user_stats))\n",
    "max_cos_list = max(cos_list)\n",
    "\n",
    "for x, y in zip(cos_list, users_stats):\n",
    "    if x==max_cos_list:\n",
    "        print ('cos = ',x,' Наибольшее сходство с клиентом - ', y)"
   ]
  }
 ],
 "metadata": {
  "kernelspec": {
   "display_name": "Python 3",
   "language": "python",
   "name": "python3"
  },
  "language_info": {
   "codemirror_mode": {
    "name": "ipython",
    "version": 3
   },
   "file_extension": ".py",
   "mimetype": "text/x-python",
   "name": "python",
   "nbconvert_exporter": "python",
   "pygments_lexer": "ipython3",
   "version": "3.8.3"
  }
 },
 "nbformat": 4,
 "nbformat_minor": 4
}
